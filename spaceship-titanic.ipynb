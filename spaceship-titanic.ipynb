{
 "cells": [
  {
   "cell_type": "code",
   "execution_count": 1,
   "id": "c10e8ce4",
   "metadata": {
    "_cell_guid": "b1076dfc-b9ad-4769-8c92-a6c4dae69d19",
    "_uuid": "8f2839f25d086af736a60e9eeb907d3b93b6e0e5",
    "execution": {
     "iopub.execute_input": "2024-10-17T19:25:09.569882Z",
     "iopub.status.busy": "2024-10-17T19:25:09.569418Z",
     "iopub.status.idle": "2024-10-17T19:25:12.700075Z",
     "shell.execute_reply": "2024-10-17T19:25:12.698541Z"
    },
    "papermill": {
     "duration": 3.142312,
     "end_time": "2024-10-17T19:25:12.703149",
     "exception": false,
     "start_time": "2024-10-17T19:25:09.560837",
     "status": "completed"
    },
    "tags": []
   },
   "outputs": [
    {
     "name": "stdout",
     "output_type": "stream",
     "text": [
      "Numpy Version: 1.26.4\n",
      "Pandas Version: 2.2.3\n",
      "Sklearn Version: 2.2.3\n",
      "Matplotlib Version: 3.7.5\n",
      "Seaborn Version: 0.12.2\n",
      "/kaggle/input/spaceship-titanic/sample_submission.csv\n",
      "/kaggle/input/spaceship-titanic/train.csv\n",
      "/kaggle/input/spaceship-titanic/test.csv\n"
     ]
    }
   ],
   "source": [
    "# This Python 3 environment comes with many helpful analytics libraries installed\n",
    "# It is defined by the kaggle/python Docker image: https://github.com/kaggle/docker-python\n",
    "# For example, here's several helpful packages to load\n",
    "\n",
    "import numpy as np # linear algebra\n",
    "print(\"Numpy Version:\", np.__version__)\n",
    "import pandas as pd # data processing, CSV file I/O (e.g. pd.read_csv)\n",
    "print(\"Pandas Version:\", pd.__version__)\n",
    "import sklearn as sk # sklearn for ML modelling\n",
    "print(\"Sklearn Version:\", pd.__version__)\n",
    "import matplotlib.pyplot as plt\n",
    "import matplotlib\n",
    "print(\"Matplotlib Version:\", matplotlib.__version__)\n",
    "import seaborn as sns\n",
    "print(\"Seaborn Version:\", sns.__version__)\n",
    "\n",
    "# Input data files are available in the read-only \"../input/\" directory\n",
    "# For example, running this (by clicking run or pressing Shift+Enter) will list all files under the input directory\n",
    "\n",
    "import os\n",
    "for dirname, _, filenames in os.walk('/kaggle/input'):\n",
    "    for filename in filenames:\n",
    "        print(os.path.join(dirname, filename))\n",
    "\n",
    "# You can write up to 20GB to the current directory (/kaggle/working/) that gets preserved as output when you create a version using \"Save & Run All\" \n",
    "# You can also write temporary files to /kaggle/temp/, but they won't be saved outside of the current session"
   ]
  },
  {
   "cell_type": "markdown",
   "id": "7cbdc832",
   "metadata": {
    "papermill": {
     "duration": 0.006554,
     "end_time": "2024-10-17T19:25:12.716588",
     "exception": false,
     "start_time": "2024-10-17T19:25:12.710034",
     "status": "completed"
    },
    "tags": []
   },
   "source": [
    "# PROJECT PIPELINE\n",
    "**PIPELINE**\n",
    "- Data Importation: import data and split into opportune groups (numerical, categorical, et cetera...)\n",
    "- EDA: Visualize data with Matplotlib to gain insights\n",
    "- Data preprocessing: Preprocess data, many ways to do. Especially for missing values.\n",
    "- Modelling: Use many models, test performance by using RKF.\n",
    "- Submit!"
   ]
  },
  {
   "cell_type": "markdown",
   "id": "e0173851",
   "metadata": {
    "papermill": {
     "duration": 0.006082,
     "end_time": "2024-10-17T19:25:12.729143",
     "exception": false,
     "start_time": "2024-10-17T19:25:12.723061",
     "status": "completed"
    },
    "tags": []
   },
   "source": [
    "# DATA INTEGRATION"
   ]
  },
  {
   "cell_type": "code",
   "execution_count": 2,
   "id": "761e2561",
   "metadata": {
    "execution": {
     "iopub.execute_input": "2024-10-17T19:25:12.744189Z",
     "iopub.status.busy": "2024-10-17T19:25:12.743618Z",
     "iopub.status.idle": "2024-10-17T19:25:12.862193Z",
     "shell.execute_reply": "2024-10-17T19:25:12.861049Z"
    },
    "papermill": {
     "duration": 0.129484,
     "end_time": "2024-10-17T19:25:12.865077",
     "exception": false,
     "start_time": "2024-10-17T19:25:12.735593",
     "status": "completed"
    },
    "tags": []
   },
   "outputs": [],
   "source": [
    "path = r\"/kaggle/input/spaceship-titanic/\"\n",
    "\n",
    "# Import data\n",
    "tc_train = pd.read_csv(path+\"train.csv\")\n",
    "tc_test = pd.read_csv(path+\"test.csv\")\n",
    "\n",
    "# Swet PassengerId as index\n",
    "tc_train = tc_train.set_index(tc_train[\"PassengerId\"]).drop(columns=\"PassengerId\")\n",
    "tc_test = tc_test.set_index(tc_test[\"PassengerId\"]).drop(columns=\"PassengerId\")\n",
    "\n",
    "# Split train and test into categorical and numerical\n",
    "tc_train_n = tc_train.select_dtypes(exclude=\"O\")\n",
    "tc_train_o = tc_train.select_dtypes(include=\"O\")\n",
    "\n",
    "tc_test_n = tc_test.select_dtypes(exclude=\"O\")\n",
    "tc_test_o = tc_test.select_dtypes(include=\"O\")"
   ]
  },
  {
   "cell_type": "code",
   "execution_count": 3,
   "id": "83b9d0f8",
   "metadata": {
    "execution": {
     "iopub.execute_input": "2024-10-17T19:25:12.880016Z",
     "iopub.status.busy": "2024-10-17T19:25:12.879598Z",
     "iopub.status.idle": "2024-10-17T19:25:12.908893Z",
     "shell.execute_reply": "2024-10-17T19:25:12.907725Z"
    },
    "papermill": {
     "duration": 0.039718,
     "end_time": "2024-10-17T19:25:12.911588",
     "exception": false,
     "start_time": "2024-10-17T19:25:12.871870",
     "status": "completed"
    },
    "tags": []
   },
   "outputs": [
    {
     "data": {
      "text/html": [
       "<div>\n",
       "<style scoped>\n",
       "    .dataframe tbody tr th:only-of-type {\n",
       "        vertical-align: middle;\n",
       "    }\n",
       "\n",
       "    .dataframe tbody tr th {\n",
       "        vertical-align: top;\n",
       "    }\n",
       "\n",
       "    .dataframe thead th {\n",
       "        text-align: right;\n",
       "    }\n",
       "</style>\n",
       "<table border=\"1\" class=\"dataframe\">\n",
       "  <thead>\n",
       "    <tr style=\"text-align: right;\">\n",
       "      <th></th>\n",
       "      <th>HomePlanet</th>\n",
       "      <th>CryoSleep</th>\n",
       "      <th>Cabin</th>\n",
       "      <th>Destination</th>\n",
       "      <th>Age</th>\n",
       "      <th>VIP</th>\n",
       "      <th>RoomService</th>\n",
       "      <th>FoodCourt</th>\n",
       "      <th>ShoppingMall</th>\n",
       "      <th>Spa</th>\n",
       "      <th>VRDeck</th>\n",
       "      <th>Name</th>\n",
       "      <th>Transported</th>\n",
       "    </tr>\n",
       "    <tr>\n",
       "      <th>PassengerId</th>\n",
       "      <th></th>\n",
       "      <th></th>\n",
       "      <th></th>\n",
       "      <th></th>\n",
       "      <th></th>\n",
       "      <th></th>\n",
       "      <th></th>\n",
       "      <th></th>\n",
       "      <th></th>\n",
       "      <th></th>\n",
       "      <th></th>\n",
       "      <th></th>\n",
       "      <th></th>\n",
       "    </tr>\n",
       "  </thead>\n",
       "  <tbody>\n",
       "    <tr>\n",
       "      <th>0001_01</th>\n",
       "      <td>Europa</td>\n",
       "      <td>False</td>\n",
       "      <td>B/0/P</td>\n",
       "      <td>TRAPPIST-1e</td>\n",
       "      <td>39.0</td>\n",
       "      <td>False</td>\n",
       "      <td>0.0</td>\n",
       "      <td>0.0</td>\n",
       "      <td>0.0</td>\n",
       "      <td>0.0</td>\n",
       "      <td>0.0</td>\n",
       "      <td>Maham Ofracculy</td>\n",
       "      <td>False</td>\n",
       "    </tr>\n",
       "    <tr>\n",
       "      <th>0002_01</th>\n",
       "      <td>Earth</td>\n",
       "      <td>False</td>\n",
       "      <td>F/0/S</td>\n",
       "      <td>TRAPPIST-1e</td>\n",
       "      <td>24.0</td>\n",
       "      <td>False</td>\n",
       "      <td>109.0</td>\n",
       "      <td>9.0</td>\n",
       "      <td>25.0</td>\n",
       "      <td>549.0</td>\n",
       "      <td>44.0</td>\n",
       "      <td>Juanna Vines</td>\n",
       "      <td>True</td>\n",
       "    </tr>\n",
       "    <tr>\n",
       "      <th>0003_01</th>\n",
       "      <td>Europa</td>\n",
       "      <td>False</td>\n",
       "      <td>A/0/S</td>\n",
       "      <td>TRAPPIST-1e</td>\n",
       "      <td>58.0</td>\n",
       "      <td>True</td>\n",
       "      <td>43.0</td>\n",
       "      <td>3576.0</td>\n",
       "      <td>0.0</td>\n",
       "      <td>6715.0</td>\n",
       "      <td>49.0</td>\n",
       "      <td>Altark Susent</td>\n",
       "      <td>False</td>\n",
       "    </tr>\n",
       "  </tbody>\n",
       "</table>\n",
       "</div>"
      ],
      "text/plain": [
       "            HomePlanet CryoSleep  Cabin  Destination   Age    VIP  \\\n",
       "PassengerId                                                         \n",
       "0001_01         Europa     False  B/0/P  TRAPPIST-1e  39.0  False   \n",
       "0002_01          Earth     False  F/0/S  TRAPPIST-1e  24.0  False   \n",
       "0003_01         Europa     False  A/0/S  TRAPPIST-1e  58.0   True   \n",
       "\n",
       "             RoomService  FoodCourt  ShoppingMall     Spa  VRDeck  \\\n",
       "PassengerId                                                         \n",
       "0001_01              0.0        0.0           0.0     0.0     0.0   \n",
       "0002_01            109.0        9.0          25.0   549.0    44.0   \n",
       "0003_01             43.0     3576.0           0.0  6715.0    49.0   \n",
       "\n",
       "                        Name  Transported  \n",
       "PassengerId                                \n",
       "0001_01      Maham Ofracculy        False  \n",
       "0002_01         Juanna Vines         True  \n",
       "0003_01        Altark Susent        False  "
      ]
     },
     "execution_count": 3,
     "metadata": {},
     "output_type": "execute_result"
    }
   ],
   "source": [
    "tc_train.head(3)"
   ]
  },
  {
   "cell_type": "code",
   "execution_count": 4,
   "id": "ffb0651c",
   "metadata": {
    "execution": {
     "iopub.execute_input": "2024-10-17T19:25:12.927735Z",
     "iopub.status.busy": "2024-10-17T19:25:12.927285Z",
     "iopub.status.idle": "2024-10-17T19:25:12.945174Z",
     "shell.execute_reply": "2024-10-17T19:25:12.943636Z"
    },
    "papermill": {
     "duration": 0.028822,
     "end_time": "2024-10-17T19:25:12.947882",
     "exception": false,
     "start_time": "2024-10-17T19:25:12.919060",
     "status": "completed"
    },
    "tags": []
   },
   "outputs": [
    {
     "data": {
      "text/html": [
       "<div>\n",
       "<style scoped>\n",
       "    .dataframe tbody tr th:only-of-type {\n",
       "        vertical-align: middle;\n",
       "    }\n",
       "\n",
       "    .dataframe tbody tr th {\n",
       "        vertical-align: top;\n",
       "    }\n",
       "\n",
       "    .dataframe thead th {\n",
       "        text-align: right;\n",
       "    }\n",
       "</style>\n",
       "<table border=\"1\" class=\"dataframe\">\n",
       "  <thead>\n",
       "    <tr style=\"text-align: right;\">\n",
       "      <th></th>\n",
       "      <th>Age</th>\n",
       "      <th>RoomService</th>\n",
       "      <th>FoodCourt</th>\n",
       "      <th>ShoppingMall</th>\n",
       "      <th>Spa</th>\n",
       "      <th>VRDeck</th>\n",
       "      <th>Transported</th>\n",
       "    </tr>\n",
       "    <tr>\n",
       "      <th>PassengerId</th>\n",
       "      <th></th>\n",
       "      <th></th>\n",
       "      <th></th>\n",
       "      <th></th>\n",
       "      <th></th>\n",
       "      <th></th>\n",
       "      <th></th>\n",
       "    </tr>\n",
       "  </thead>\n",
       "  <tbody>\n",
       "    <tr>\n",
       "      <th>0001_01</th>\n",
       "      <td>39.0</td>\n",
       "      <td>0.0</td>\n",
       "      <td>0.0</td>\n",
       "      <td>0.0</td>\n",
       "      <td>0.0</td>\n",
       "      <td>0.0</td>\n",
       "      <td>False</td>\n",
       "    </tr>\n",
       "    <tr>\n",
       "      <th>0002_01</th>\n",
       "      <td>24.0</td>\n",
       "      <td>109.0</td>\n",
       "      <td>9.0</td>\n",
       "      <td>25.0</td>\n",
       "      <td>549.0</td>\n",
       "      <td>44.0</td>\n",
       "      <td>True</td>\n",
       "    </tr>\n",
       "    <tr>\n",
       "      <th>0003_01</th>\n",
       "      <td>58.0</td>\n",
       "      <td>43.0</td>\n",
       "      <td>3576.0</td>\n",
       "      <td>0.0</td>\n",
       "      <td>6715.0</td>\n",
       "      <td>49.0</td>\n",
       "      <td>False</td>\n",
       "    </tr>\n",
       "  </tbody>\n",
       "</table>\n",
       "</div>"
      ],
      "text/plain": [
       "              Age  RoomService  FoodCourt  ShoppingMall     Spa  VRDeck  \\\n",
       "PassengerId                                                               \n",
       "0001_01      39.0          0.0        0.0           0.0     0.0     0.0   \n",
       "0002_01      24.0        109.0        9.0          25.0   549.0    44.0   \n",
       "0003_01      58.0         43.0     3576.0           0.0  6715.0    49.0   \n",
       "\n",
       "             Transported  \n",
       "PassengerId               \n",
       "0001_01            False  \n",
       "0002_01             True  \n",
       "0003_01            False  "
      ]
     },
     "execution_count": 4,
     "metadata": {},
     "output_type": "execute_result"
    }
   ],
   "source": [
    "tc_train_n.head(3)"
   ]
  },
  {
   "cell_type": "code",
   "execution_count": 5,
   "id": "ea5fe545",
   "metadata": {
    "execution": {
     "iopub.execute_input": "2024-10-17T19:25:12.964415Z",
     "iopub.status.busy": "2024-10-17T19:25:12.964006Z",
     "iopub.status.idle": "2024-10-17T19:25:12.977866Z",
     "shell.execute_reply": "2024-10-17T19:25:12.976801Z"
    },
    "papermill": {
     "duration": 0.025262,
     "end_time": "2024-10-17T19:25:12.980389",
     "exception": false,
     "start_time": "2024-10-17T19:25:12.955127",
     "status": "completed"
    },
    "tags": []
   },
   "outputs": [
    {
     "data": {
      "text/html": [
       "<div>\n",
       "<style scoped>\n",
       "    .dataframe tbody tr th:only-of-type {\n",
       "        vertical-align: middle;\n",
       "    }\n",
       "\n",
       "    .dataframe tbody tr th {\n",
       "        vertical-align: top;\n",
       "    }\n",
       "\n",
       "    .dataframe thead th {\n",
       "        text-align: right;\n",
       "    }\n",
       "</style>\n",
       "<table border=\"1\" class=\"dataframe\">\n",
       "  <thead>\n",
       "    <tr style=\"text-align: right;\">\n",
       "      <th></th>\n",
       "      <th>HomePlanet</th>\n",
       "      <th>CryoSleep</th>\n",
       "      <th>Cabin</th>\n",
       "      <th>Destination</th>\n",
       "      <th>VIP</th>\n",
       "      <th>Name</th>\n",
       "    </tr>\n",
       "    <tr>\n",
       "      <th>PassengerId</th>\n",
       "      <th></th>\n",
       "      <th></th>\n",
       "      <th></th>\n",
       "      <th></th>\n",
       "      <th></th>\n",
       "      <th></th>\n",
       "    </tr>\n",
       "  </thead>\n",
       "  <tbody>\n",
       "    <tr>\n",
       "      <th>0001_01</th>\n",
       "      <td>Europa</td>\n",
       "      <td>False</td>\n",
       "      <td>B/0/P</td>\n",
       "      <td>TRAPPIST-1e</td>\n",
       "      <td>False</td>\n",
       "      <td>Maham Ofracculy</td>\n",
       "    </tr>\n",
       "    <tr>\n",
       "      <th>0002_01</th>\n",
       "      <td>Earth</td>\n",
       "      <td>False</td>\n",
       "      <td>F/0/S</td>\n",
       "      <td>TRAPPIST-1e</td>\n",
       "      <td>False</td>\n",
       "      <td>Juanna Vines</td>\n",
       "    </tr>\n",
       "    <tr>\n",
       "      <th>0003_01</th>\n",
       "      <td>Europa</td>\n",
       "      <td>False</td>\n",
       "      <td>A/0/S</td>\n",
       "      <td>TRAPPIST-1e</td>\n",
       "      <td>True</td>\n",
       "      <td>Altark Susent</td>\n",
       "    </tr>\n",
       "  </tbody>\n",
       "</table>\n",
       "</div>"
      ],
      "text/plain": [
       "            HomePlanet CryoSleep  Cabin  Destination    VIP             Name\n",
       "PassengerId                                                                 \n",
       "0001_01         Europa     False  B/0/P  TRAPPIST-1e  False  Maham Ofracculy\n",
       "0002_01          Earth     False  F/0/S  TRAPPIST-1e  False     Juanna Vines\n",
       "0003_01         Europa     False  A/0/S  TRAPPIST-1e   True    Altark Susent"
      ]
     },
     "execution_count": 5,
     "metadata": {},
     "output_type": "execute_result"
    }
   ],
   "source": [
    "tc_train_o.head(3)"
   ]
  },
  {
   "cell_type": "markdown",
   "id": "9abcdaa6",
   "metadata": {
    "papermill": {
     "duration": 0.008065,
     "end_time": "2024-10-17T19:25:12.995819",
     "exception": false,
     "start_time": "2024-10-17T19:25:12.987754",
     "status": "completed"
    },
    "tags": []
   },
   "source": [
    "# EDA (EXPLORATORY DATA ANALYSIS)\n",
    "Reminder:\n",
    "- `tc_train` for train data\n",
    "- `tc_test` for test data\n",
    "- any of them appended with `_n` or `_o` is to select either numerical or categorical variables "
   ]
  },
  {
   "cell_type": "code",
   "execution_count": 6,
   "id": "3faec322",
   "metadata": {
    "execution": {
     "iopub.execute_input": "2024-10-17T19:25:13.012263Z",
     "iopub.status.busy": "2024-10-17T19:25:13.011860Z",
     "iopub.status.idle": "2024-10-17T19:25:13.044200Z",
     "shell.execute_reply": "2024-10-17T19:25:13.042638Z"
    },
    "papermill": {
     "duration": 0.043971,
     "end_time": "2024-10-17T19:25:13.047055",
     "exception": false,
     "start_time": "2024-10-17T19:25:13.003084",
     "status": "completed"
    },
    "tags": []
   },
   "outputs": [
    {
     "name": "stdout",
     "output_type": "stream",
     "text": [
      "<class 'pandas.core.frame.DataFrame'>\n",
      "Index: 8693 entries, 0001_01 to 9280_02\n",
      "Data columns (total 13 columns):\n",
      " #   Column        Non-Null Count  Dtype  \n",
      "---  ------        --------------  -----  \n",
      " 0   HomePlanet    8492 non-null   object \n",
      " 1   CryoSleep     8476 non-null   object \n",
      " 2   Cabin         8494 non-null   object \n",
      " 3   Destination   8511 non-null   object \n",
      " 4   Age           8514 non-null   float64\n",
      " 5   VIP           8490 non-null   object \n",
      " 6   RoomService   8512 non-null   float64\n",
      " 7   FoodCourt     8510 non-null   float64\n",
      " 8   ShoppingMall  8485 non-null   float64\n",
      " 9   Spa           8510 non-null   float64\n",
      " 10  VRDeck        8505 non-null   float64\n",
      " 11  Name          8493 non-null   object \n",
      " 12  Transported   8693 non-null   bool   \n",
      "dtypes: bool(1), float64(6), object(6)\n",
      "memory usage: 891.4+ KB\n"
     ]
    }
   ],
   "source": [
    "# See train data info\n",
    "tc_train.info()"
   ]
  },
  {
   "cell_type": "code",
   "execution_count": 7,
   "id": "25153b0d",
   "metadata": {
    "execution": {
     "iopub.execute_input": "2024-10-17T19:25:13.064600Z",
     "iopub.status.busy": "2024-10-17T19:25:13.064114Z",
     "iopub.status.idle": "2024-10-17T19:25:13.079686Z",
     "shell.execute_reply": "2024-10-17T19:25:13.078499Z"
    },
    "papermill": {
     "duration": 0.027484,
     "end_time": "2024-10-17T19:25:13.082492",
     "exception": false,
     "start_time": "2024-10-17T19:25:13.055008",
     "status": "completed"
    },
    "tags": []
   },
   "outputs": [
    {
     "name": "stdout",
     "output_type": "stream",
     "text": [
      "HomePlanet has 2.31% of missing data\n",
      "CryoSleep has 2.5% of missing data\n",
      "Cabin has 2.29% of missing data\n",
      "Destination has 2.09% of missing data\n",
      "Age has 2.06% of missing data\n",
      "VIP has 2.34% of missing data\n",
      "RoomService has 2.08% of missing data\n",
      "FoodCourt has 2.11% of missing data\n",
      "ShoppingMall has 2.39% of missing data\n",
      "Spa has 2.11% of missing data\n",
      "VRDeck has 2.16% of missing data\n",
      "Name has 2.3% of missing data\n",
      "Transported has 0.0% of missing data\n"
     ]
    }
   ],
   "source": [
    "# Calculate percentage of missing rows for each data column\n",
    "t = tc_train.shape[0]\n",
    "for column in tc_train.columns:\n",
    "    print(f\"{column} has {((tc_train[column].isna().sum())/(t)).round(4)*100}% of missing data\")"
   ]
  },
  {
   "cell_type": "code",
   "execution_count": 8,
   "id": "f99bf17a",
   "metadata": {
    "execution": {
     "iopub.execute_input": "2024-10-17T19:25:13.099699Z",
     "iopub.status.busy": "2024-10-17T19:25:13.099220Z",
     "iopub.status.idle": "2024-10-17T19:25:13.780711Z",
     "shell.execute_reply": "2024-10-17T19:25:13.779239Z"
    },
    "papermill": {
     "duration": 0.694592,
     "end_time": "2024-10-17T19:25:13.784748",
     "exception": false,
     "start_time": "2024-10-17T19:25:13.090156",
     "status": "completed"
    },
    "tags": []
   },
   "outputs": [
    {
     "data": {
      "text/plain": [
       "<Axes: >"
      ]
     },
     "execution_count": 8,
     "metadata": {},
     "output_type": "execute_result"
    },
    {
     "data": {
      "image/png": "[encoded data removed]",
      "text/plain": [
       "<Figure size 640x480 with 2 Axes>"
      ]
     },
     "metadata": {},
     "output_type": "display_data"
    }
   ],
   "source": [
    "# Visualize correlation between data\n",
    "fig, axes = plt.subplots(1, 1)\n",
    "map_c = sns.color_palette(\"Greens\")\n",
    "sns.heatmap(tc_train_n.corr(method=\"spearman\"), annot=True, ax=axes, cmap=map_c)\n"
   ]
  },
  {
   "cell_type": "code",
   "execution_count": 9,
   "id": "ee9c343b",
   "metadata": {
    "execution": {
     "iopub.execute_input": "2024-10-17T19:25:13.805027Z",
     "iopub.status.busy": "2024-10-17T19:25:13.804586Z",
     "iopub.status.idle": "2024-10-17T19:25:13.844876Z",
     "shell.execute_reply": "2024-10-17T19:25:13.843429Z"
    },
    "papermill": {
     "duration": 0.05536,
     "end_time": "2024-10-17T19:25:13.849590",
     "exception": false,
     "start_time": "2024-10-17T19:25:13.794230",
     "status": "completed"
    },
    "tags": []
   },
   "outputs": [
    {
     "data": {
      "text/html": [
       "<div>\n",
       "<style scoped>\n",
       "    .dataframe tbody tr th:only-of-type {\n",
       "        vertical-align: middle;\n",
       "    }\n",
       "\n",
       "    .dataframe tbody tr th {\n",
       "        vertical-align: top;\n",
       "    }\n",
       "\n",
       "    .dataframe thead th {\n",
       "        text-align: right;\n",
       "    }\n",
       "</style>\n",
       "<table border=\"1\" class=\"dataframe\">\n",
       "  <thead>\n",
       "    <tr style=\"text-align: right;\">\n",
       "      <th></th>\n",
       "      <th>Age</th>\n",
       "      <th>RoomService</th>\n",
       "      <th>FoodCourt</th>\n",
       "      <th>ShoppingMall</th>\n",
       "      <th>Spa</th>\n",
       "      <th>VRDeck</th>\n",
       "    </tr>\n",
       "  </thead>\n",
       "  <tbody>\n",
       "    <tr>\n",
       "      <th>count</th>\n",
       "      <td>8514.000000</td>\n",
       "      <td>8512.000000</td>\n",
       "      <td>8510.000000</td>\n",
       "      <td>8485.000000</td>\n",
       "      <td>8510.000000</td>\n",
       "      <td>8505.000000</td>\n",
       "    </tr>\n",
       "    <tr>\n",
       "      <th>mean</th>\n",
       "      <td>28.827930</td>\n",
       "      <td>224.687617</td>\n",
       "      <td>458.077203</td>\n",
       "      <td>173.729169</td>\n",
       "      <td>311.138778</td>\n",
       "      <td>304.854791</td>\n",
       "    </tr>\n",
       "    <tr>\n",
       "      <th>std</th>\n",
       "      <td>14.489021</td>\n",
       "      <td>666.717663</td>\n",
       "      <td>1611.489240</td>\n",
       "      <td>604.696458</td>\n",
       "      <td>1136.705535</td>\n",
       "      <td>1145.717189</td>\n",
       "    </tr>\n",
       "    <tr>\n",
       "      <th>min</th>\n",
       "      <td>0.000000</td>\n",
       "      <td>0.000000</td>\n",
       "      <td>0.000000</td>\n",
       "      <td>0.000000</td>\n",
       "      <td>0.000000</td>\n",
       "      <td>0.000000</td>\n",
       "    </tr>\n",
       "    <tr>\n",
       "      <th>25%</th>\n",
       "      <td>19.000000</td>\n",
       "      <td>0.000000</td>\n",
       "      <td>0.000000</td>\n",
       "      <td>0.000000</td>\n",
       "      <td>0.000000</td>\n",
       "      <td>0.000000</td>\n",
       "    </tr>\n",
       "    <tr>\n",
       "      <th>50%</th>\n",
       "      <td>27.000000</td>\n",
       "      <td>0.000000</td>\n",
       "      <td>0.000000</td>\n",
       "      <td>0.000000</td>\n",
       "      <td>0.000000</td>\n",
       "      <td>0.000000</td>\n",
       "    </tr>\n",
       "    <tr>\n",
       "      <th>75%</th>\n",
       "      <td>38.000000</td>\n",
       "      <td>47.000000</td>\n",
       "      <td>76.000000</td>\n",
       "      <td>27.000000</td>\n",
       "      <td>59.000000</td>\n",
       "      <td>46.000000</td>\n",
       "    </tr>\n",
       "    <tr>\n",
       "      <th>max</th>\n",
       "      <td>79.000000</td>\n",
       "      <td>14327.000000</td>\n",
       "      <td>29813.000000</td>\n",
       "      <td>23492.000000</td>\n",
       "      <td>22408.000000</td>\n",
       "      <td>24133.000000</td>\n",
       "    </tr>\n",
       "  </tbody>\n",
       "</table>\n",
       "</div>"
      ],
      "text/plain": [
       "               Age   RoomService     FoodCourt  ShoppingMall           Spa  \\\n",
       "count  8514.000000   8512.000000   8510.000000   8485.000000   8510.000000   \n",
       "mean     28.827930    224.687617    458.077203    173.729169    311.138778   \n",
       "std      14.489021    666.717663   1611.489240    604.696458   1136.705535   \n",
       "min       0.000000      0.000000      0.000000      0.000000      0.000000   \n",
       "25%      19.000000      0.000000      0.000000      0.000000      0.000000   \n",
       "50%      27.000000      0.000000      0.000000      0.000000      0.000000   \n",
       "75%      38.000000     47.000000     76.000000     27.000000     59.000000   \n",
       "max      79.000000  14327.000000  29813.000000  23492.000000  22408.000000   \n",
       "\n",
       "             VRDeck  \n",
       "count   8505.000000  \n",
       "mean     304.854791  \n",
       "std     1145.717189  \n",
       "min        0.000000  \n",
       "25%        0.000000  \n",
       "50%        0.000000  \n",
       "75%       46.000000  \n",
       "max    24133.000000  "
      ]
     },
     "execution_count": 9,
     "metadata": {},
     "output_type": "execute_result"
    }
   ],
   "source": [
    "# Get statistical Info\n",
    "tc_train.describe()"
   ]
  },
  {
   "cell_type": "code",
   "execution_count": 10,
   "id": "6a40b48a",
   "metadata": {
    "execution": {
     "iopub.execute_input": "2024-10-17T19:25:13.870763Z",
     "iopub.status.busy": "2024-10-17T19:25:13.870128Z",
     "iopub.status.idle": "2024-10-17T19:25:13.926990Z",
     "shell.execute_reply": "2024-10-17T19:25:13.925662Z"
    },
    "papermill": {
     "duration": 0.071169,
     "end_time": "2024-10-17T19:25:13.930296",
     "exception": false,
     "start_time": "2024-10-17T19:25:13.859127",
     "status": "completed"
    },
    "tags": []
   },
   "outputs": [
    {
     "data": {
      "text/html": [
       "<div>\n",
       "<style scoped>\n",
       "    .dataframe tbody tr th:only-of-type {\n",
       "        vertical-align: middle;\n",
       "    }\n",
       "\n",
       "    .dataframe tbody tr th {\n",
       "        vertical-align: top;\n",
       "    }\n",
       "\n",
       "    .dataframe thead th {\n",
       "        text-align: right;\n",
       "    }\n",
       "</style>\n",
       "<table border=\"1\" class=\"dataframe\">\n",
       "  <thead>\n",
       "    <tr style=\"text-align: right;\">\n",
       "      <th></th>\n",
       "      <th>HomePlanet</th>\n",
       "      <th>CryoSleep</th>\n",
       "      <th>Cabin</th>\n",
       "      <th>Destination</th>\n",
       "      <th>VIP</th>\n",
       "      <th>Name</th>\n",
       "    </tr>\n",
       "  </thead>\n",
       "  <tbody>\n",
       "    <tr>\n",
       "      <th>count</th>\n",
       "      <td>8492</td>\n",
       "      <td>8476</td>\n",
       "      <td>8494</td>\n",
       "      <td>8511</td>\n",
       "      <td>8490</td>\n",
       "      <td>8493</td>\n",
       "    </tr>\n",
       "    <tr>\n",
       "      <th>unique</th>\n",
       "      <td>3</td>\n",
       "      <td>2</td>\n",
       "      <td>6560</td>\n",
       "      <td>3</td>\n",
       "      <td>2</td>\n",
       "      <td>8473</td>\n",
       "    </tr>\n",
       "    <tr>\n",
       "      <th>top</th>\n",
       "      <td>Earth</td>\n",
       "      <td>False</td>\n",
       "      <td>G/734/S</td>\n",
       "      <td>TRAPPIST-1e</td>\n",
       "      <td>False</td>\n",
       "      <td>Gollux Reedall</td>\n",
       "    </tr>\n",
       "    <tr>\n",
       "      <th>freq</th>\n",
       "      <td>4602</td>\n",
       "      <td>5439</td>\n",
       "      <td>8</td>\n",
       "      <td>5915</td>\n",
       "      <td>8291</td>\n",
       "      <td>2</td>\n",
       "    </tr>\n",
       "  </tbody>\n",
       "</table>\n",
       "</div>"
      ],
      "text/plain": [
       "       HomePlanet CryoSleep    Cabin  Destination    VIP            Name\n",
       "count        8492      8476     8494         8511   8490            8493\n",
       "unique          3         2     6560            3      2            8473\n",
       "top         Earth     False  G/734/S  TRAPPIST-1e  False  Gollux Reedall\n",
       "freq         4602      5439        8         5915   8291               2"
      ]
     },
     "execution_count": 10,
     "metadata": {},
     "output_type": "execute_result"
    }
   ],
   "source": [
    "tc_train.describe(include='O')"
   ]
  },
  {
   "cell_type": "code",
   "execution_count": 11,
   "id": "1147cc19",
   "metadata": {
    "execution": {
     "iopub.execute_input": "2024-10-17T19:25:13.958777Z",
     "iopub.status.busy": "2024-10-17T19:25:13.958297Z",
     "iopub.status.idle": "2024-10-17T19:25:15.279422Z",
     "shell.execute_reply": "2024-10-17T19:25:15.277530Z"
    },
    "papermill": {
     "duration": 1.34166,
     "end_time": "2024-10-17T19:25:15.285276",
     "exception": false,
     "start_time": "2024-10-17T19:25:13.943616",
     "status": "completed"
    },
    "tags": []
   },
   "outputs": [
    {
     "name": "stderr",
     "output_type": "stream",
     "text": [
      "/opt/conda/lib/python3.10/site-packages/seaborn/categorical.py:486: FutureWarning: Series.__getitem__ treating keys as positions is deprecated. In a future version, integer keys will always be treated as labels (consistent with DataFrame behavior). To access a value by position, use `ser.iloc[pos]`\n",
      "  if np.isscalar(data[0]):\n",
      "/opt/conda/lib/python3.10/site-packages/seaborn/categorical.py:486: FutureWarning: Series.__getitem__ treating keys as positions is deprecated. In a future version, integer keys will always be treated as labels (consistent with DataFrame behavior). To access a value by position, use `ser.iloc[pos]`\n",
      "  if np.isscalar(data[0]):\n",
      "/opt/conda/lib/python3.10/site-packages/seaborn/categorical.py:486: FutureWarning: Series.__getitem__ treating keys as positions is deprecated. In a future version, integer keys will always be treated as labels (consistent with DataFrame behavior). To access a value by position, use `ser.iloc[pos]`\n",
      "  if np.isscalar(data[0]):\n",
      "/opt/conda/lib/python3.10/site-packages/seaborn/categorical.py:486: FutureWarning: Series.__getitem__ treating keys as positions is deprecated. In a future version, integer keys will always be treated as labels (consistent with DataFrame behavior). To access a value by position, use `ser.iloc[pos]`\n",
      "  if np.isscalar(data[0]):\n",
      "/opt/conda/lib/python3.10/site-packages/seaborn/categorical.py:486: FutureWarning: Series.__getitem__ treating keys as positions is deprecated. In a future version, integer keys will always be treated as labels (consistent with DataFrame behavior). To access a value by position, use `ser.iloc[pos]`\n",
      "  if np.isscalar(data[0]):\n",
      "/opt/conda/lib/python3.10/site-packages/seaborn/categorical.py:486: FutureWarning: Series.__getitem__ treating keys as positions is deprecated. In a future version, integer keys will always be treated as labels (consistent with DataFrame behavior). To access a value by position, use `ser.iloc[pos]`\n",
      "  if np.isscalar(data[0]):\n"
     ]
    },
    {
     "data": {
      "image/png": "[encoded data removed]",
      "text/plain": [
       "<Figure size 1000x1000 with 6 Axes>"
      ]
     },
     "metadata": {},
     "output_type": "display_data"
    }
   ],
   "source": [
    "# Analyze boxplots\n",
    "x = tc_train_n.drop(columns=\"Transported\", inplace=False)\n",
    "num_cols = x.shape[1]\n",
    "fig, axes = plt.subplots(1, num_cols, figsize=(10, 10))\n",
    "\n",
    "for col, i in zip(x.columns.tolist(), range(0, num_cols)):\n",
    "    sns.boxplot(data=x[col], ax=axes[i])\n",
    "    axes[i].set_title(col)"
   ]
  },
  {
   "cell_type": "markdown",
   "id": "d10890ee",
   "metadata": {
    "papermill": {
     "duration": 0.010477,
     "end_time": "2024-10-17T19:25:15.310020",
     "exception": false,
     "start_time": "2024-10-17T19:25:15.299543",
     "status": "completed"
    },
    "tags": []
   },
   "source": [
    "# Feature Engineering\n",
    "Data has a lot of outliers."
   ]
  },
  {
   "cell_type": "markdown",
   "id": "525f492b",
   "metadata": {
    "papermill": {
     "duration": 0.010109,
     "end_time": "2024-10-17T19:25:15.330889",
     "exception": false,
     "start_time": "2024-10-17T19:25:15.320780",
     "status": "completed"
    },
    "tags": []
   },
   "source": []
  },
  {
   "cell_type": "code",
   "execution_count": null,
   "id": "161a5cd7",
   "metadata": {
    "papermill": {
     "duration": 0.01508,
     "end_time": "2024-10-17T19:25:15.359092",
     "exception": false,
     "start_time": "2024-10-17T19:25:15.344012",
     "status": "completed"
    },
    "tags": []
   },
   "outputs": [],
   "source": []
  },
  {
   "cell_type": "markdown",
   "id": "5542d696",
   "metadata": {
    "papermill": {
     "duration": 0.01814,
     "end_time": "2024-10-17T19:25:15.390915",
     "exception": false,
     "start_time": "2024-10-17T19:25:15.372775",
     "status": "completed"
    },
    "tags": []
   },
   "source": [
    "# MODELLING"
   ]
  }
 ],
 "metadata": {
  "kaggle": {
   "accelerator": "none",
   "dataSources": [
    {
     "databundleVersionId": 3220602,
     "sourceId": 34377,
     "sourceType": "competition"
    }
   ],
   "dockerImageVersionId": 30786,
   "isGpuEnabled": false,
   "isInternetEnabled": false,
   "language": "python",
   "sourceType": "notebook"
  },
  "kernelspec": {
   "display_name": "Python 3",
   "language": "python",
   "name": "python3"
  },
  "language_info": {
   "codemirror_mode": {
    "name": "ipython",
    "version": 3
   },
   "file_extension": ".py",
   "mimetype": "text/x-python",
   "name": "python",
   "nbconvert_exporter": "python",
   "pygments_lexer": "ipython3",
   "version": "3.10.14"
  },
  "papermill": {
   "default_parameters": {},
   "duration": 9.763017,
   "end_time": "2024-10-17T19:25:16.129652",
   "environment_variables": {},
   "exception": null,
   "input_path": "__notebook__.ipynb",
   "output_path": "__notebook__.ipynb",
   "parameters": {},
   "start_time": "2024-10-17T19:25:06.366635",
   "version": "2.6.0"
  }
 },
 "nbformat": 4,
 "nbformat_minor": 5
}
